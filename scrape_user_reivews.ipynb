{
 "cells": [
  {
   "cell_type": "code",
   "execution_count": 81,
   "metadata": {},
   "outputs": [
    {
     "name": "stdout",
     "output_type": "stream",
     "text": [
      "The page has been fully loaded\n"
     ]
    }
   ],
   "source": [
    "from selenium import webdriver\n",
    "import time\n",
    "import pandas as pd\n",
    "\n",
    "def write_reviews_to_csv(path):\n",
    "    \"\"\"This function export a csv file that contains user reviews from TV series \n",
    "    game of thrones. <path> in function parameter refers to the save path that\n",
    "    stores the exported .csv file\"\"\"\n",
    "    \n",
    "    # create new instance for webdriver\n",
    "    driver = webdriver.Chrome()\n",
    "    # nativate to the page given by the URL\n",
    "    driver.get(\"https://www.imdb.com/title/tt0944947/reviews?ref_=tt_ql_3\")\n",
    "    # create a new list that stores user reviews\n",
    "    reviews = []\n",
    "    \n",
    "    # try to find the element of button \"load more\" and click it\n",
    "    # set the time interval to 2 seconds\n",
    "    # if the page doesn't have any more element, then raise exception\n",
    "    # print the message: page has been fully loaded\n",
    "    try:\n",
    "        while True:\n",
    "            driver.find_element_by_id(\"load-more-trigger\").click()\n",
    "            time.sleep(2)\n",
    "\n",
    "    except Exception as e:\n",
    "        print(\"The page has been fully loaded\")\n",
    "    \n",
    "    # find element which contains the full text of user reviews\n",
    "    finally:\n",
    "        contents = driver.find_elements_by_css_selector(\"div.text.show-more__control\")\n",
    "    \n",
    "    # append text to the reviews list\n",
    "    for index, content in enumerate(contents):\n",
    "        if len(content.text) != 0:\n",
    "                #print(\"# %d.  %s\"% (index, content.text))\n",
    "                reviews.append(content.text)\n",
    "    \n",
    "    # convert list to dataframe using Pandas \n",
    "    df = pd.DataFrame(data = reviews, columns = [\"Reviews\"])\n",
    "    \n",
    "    # export the datafrmae to .csv file onto save path\n",
    "    export_csv = df.to_csv(path)\n",
    "    \n",
    "    # close the driver instance\n",
    "    driver.close()\n",
    "    \n",
    "\n",
    "if __name__ == \"__main__\":\n",
    "    path = r\"~/Documents/zf/Project/NLP-Project/reviews.csv\"\n",
    "    write_reviews_to_csv(path)"
   ]
  },
  {
   "cell_type": "code",
   "execution_count": null,
   "metadata": {},
   "outputs": [],
   "source": []
  },
  {
   "cell_type": "code",
   "execution_count": null,
   "metadata": {},
   "outputs": [],
   "source": []
  },
  {
   "cell_type": "code",
   "execution_count": null,
   "metadata": {},
   "outputs": [],
   "source": []
  }
 ],
 "metadata": {
  "kernelspec": {
   "display_name": "Python 3",
   "language": "python",
   "name": "python3"
  },
  "language_info": {
   "codemirror_mode": {
    "name": "ipython",
    "version": 3
   },
   "file_extension": ".py",
   "mimetype": "text/x-python",
   "name": "python",
   "nbconvert_exporter": "python",
   "pygments_lexer": "ipython3",
   "version": "3.7.1"
  }
 },
 "nbformat": 4,
 "nbformat_minor": 2
}
